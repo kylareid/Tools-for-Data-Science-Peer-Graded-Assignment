{
 "cells": [
  {
   "cell_type": "markdown",
   "metadata": {},
   "source": [
    "<center>\n",
    "    <img src=\"https://cf-courses-data.s3.us.cloud-object-storage.appdomain.cloud/IBMDeveloperSkillsNetwork-DS0105EN-SkillsNetwork/labs/Module2/images/SN_web_lightmode.png\" width=\"300\" alt=\"cognitiveclass.ai logo\"  />\n",
    "</center>\n"
   ]
  },
  {
   "cell_type": "markdown",
   "metadata": {},
   "source": [
    "#### Add your code below following the instructions given in the course\n"
   ]
  },
  {
   "cell_type": "markdown",
   "metadata": {},
   "source": [
    "# My Jupyter Notebook on IBM Watson Studio"
   ]
  },
  {
   "cell_type": "markdown",
   "metadata": {},
   "source": [
    "**Kyla Reid** <br> My current position is a Data Analyst for a Health Care Business and I love what I do"
   ]
  },
  {
   "cell_type": "markdown",
   "metadata": {},
   "source": [
    "*I am interested in Data Science because I love discovering the insights hidden in the Data. I am very curious and I love being able to ask questions and solve problems with the new techniques we can now apply to all the Data we have.*"
   ]
  },
  {
   "cell_type": "markdown",
   "metadata": {},
   "source": [
    "### Cell 5 is the addition of my two favorite numbers 4 $+$ 8"
   ]
  },
  {
   "cell_type": "code",
   "execution_count": 5,
   "metadata": {},
   "outputs": [
    {
     "name": "stdout",
     "output_type": "stream",
     "text": [
      "12\n"
     ]
    }
   ],
   "source": [
    "print(4+8)"
   ]
  },
  {
   "cell_type": "markdown",
   "metadata": {},
   "source": [
    "-------\n",
    "\n",
    "***\n",
    "\n",
    " - This\n",
    " - is my\n",
    " - bullet List\n",
    " \n",
    " 1. This\n",
    " 1. is my\n",
    " 1. numbered List\n",
    " \n",
    "|This |Is my|Table|\n",
    "|-------|-------|-----|\n",
    "|Cell 1| Cell 2|Cell 3|\n",
    "\n",
    "<a href=\"https://dataplatform.cloud.ibm.com/gallery\">Hyperlink to: IBM Cloud Gallery</a>\n",
    "\n",
    "`Here is some highlighted code`\n",
    "\n",
    ">I\n",
    ">will now\n",
    ">try a\n",
    ">>block quote\n",
    "\n",
    "~Strike through my text~"
   ]
  },
  {
   "cell_type": "code",
   "execution_count": null,
   "metadata": {},
   "outputs": [],
   "source": []
  }
 ],
 "metadata": {
  "kernelspec": {
   "display_name": "Python",
   "language": "python",
   "name": "conda-env-python-py"
  },
  "language_info": {
   "codemirror_mode": {
    "name": "ipython",
    "version": 3
   },
   "file_extension": ".py",
   "mimetype": "text/x-python",
   "name": "python",
   "nbconvert_exporter": "python",
   "pygments_lexer": "ipython3",
   "version": "3.7.12"
  }
 },
 "nbformat": 4,
 "nbformat_minor": 4
}
